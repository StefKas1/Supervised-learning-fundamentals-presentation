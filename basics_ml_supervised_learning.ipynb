{
 "cells": [
  {
   "cell_type": "markdown",
   "metadata": {},
   "source": [
    "# Understand the Basics of Machine Learning Through a Practical Example of Supervised Learning\n",
    "\n",
    "<img src=\"images/00_supervised_learning_income.png\" alt=\"Supervised Learning Table\" width=\"600\"/>"
   ]
  },
  {
   "cell_type": "markdown",
   "metadata": {},
   "source": [
    "## Overview of Supervised Learning\n",
    "### A) Regression\n",
    "\n",
    "<img src=\"images/01_regression_income_2.PNG\" alt=\"Regression Income\" width=\"1200\"/>"
   ]
  },
  {
   "cell_type": "markdown",
   "metadata": {},
   "source": [
    "### B) Classification\n",
    "\n",
    "<img src=\"images/02_classification_churn.PNG\" alt=\"Classification Churn\" width=\"1200\"/>"
   ]
  },
  {
   "cell_type": "markdown",
   "metadata": {},
   "source": [
    "## Supervised Learning: Regression - in depth"
   ]
  },
  {
   "cell_type": "markdown",
   "metadata": {},
   "source": [
    "### 1. Simple Linear Regression model\n",
    "<img src=\"images/05_regression_education_residuals.PNG\" alt=\"Regression Education With Residuals\" width=\"600\"/>\n",
    "\n",
    "The model \n",
    "\n",
    "$$\n",
    "\\Huge\n",
    "\\hat{y} = -39.5 + 5.6 x\n",
    "$$\n",
    "\n",
    "$$ \\Huge \\hat{y}_i = \\hat{\\beta}_0 + \\hat{\\beta}_1 x_i $$\n",
    "\n",
    "### 2. Mean Squared Error (MSE)\n",
    "\n",
    "$$\n",
    "\\Huge\n",
    "\\text{MSE}(\\hat{\\beta}_0, \\hat{\\beta}_1) = \\frac{1}{n} \\sum_{i=1}^{n} \\left( y_i - \\hat{y}_i \\right)^2\n",
    "$$\n",
    "\n",
    "$$\n",
    "\\Huge\n",
    "\\text{MSE}(\\hat{\\beta}_0, \\hat{\\beta}_1) = \\frac{1}{n} \\sum_{i=1}^{n} \\left( y_i - (\\hat{\\beta}_0 + \\hat{\\beta}_1 x_i) \\right)^2\n",
    "$$\n",
    "\n",
    "### 3. Gradient Descent\n",
    "\n",
    "#### 3.1. Compute the gradients\n",
    "\n",
    "$$\n",
    "\\Huge\n",
    "\\frac{\\partial \\text{MSE}}{\\partial \\hat{\\beta}_0} = -\\frac{2}{n} \\sum_{i=1}^{n} \\left( y_i - (\\hat{\\beta}_0 + \\hat{\\beta}_1 x_i) \\right)\n",
    "$$\n",
    "\n",
    "$$\n",
    "\\Huge\n",
    "\\frac{\\partial \\text{MSE}}{\\partial \\hat{\\beta}_1} = -\\frac{2}{n} \\sum_{i=1}^{n} \\left( y_i - (\\hat{\\beta}_0 + \\hat{\\beta}_1 x_i) \\right) x_i\n",
    "$$\n",
    "\n",
    "#### 3.2. Update rules\n",
    "\n",
    "$$\n",
    "\\Huge\n",
    "\\hat{\\beta}_0^{(k+1)} = \\hat{\\beta}_0^{(k)} - \\alpha \\frac{\\partial \\text{MSE}}{\\partial \\hat{\\beta}_0}\n",
    "$$\n",
    "\n",
    "$$\n",
    "\\Huge\n",
    "\\hat{\\beta}_1^{(k+1)} = \\hat{\\beta}_1^{(k)} - \\alpha \\frac{\\partial \\text{MSE}}{\\partial \\hat{\\beta}_1}\n",
    "$$\n",
    "\n",
    "### 4. Convergence and final model\n",
    "\n",
    "$$\n",
    "\\Huge\n",
    "\\hat{y} = -39.5 + 5.6 x\n",
    "$$\n",
    "\n",
    "<img src=\"images/06_regression_education_residuals_mse_surface.PNG\" alt=\"MSE Surface\" width=\"800\"/>\n",
    "<br>\n",
    "<br>\n",
    "<img src=\"images/06_1_convex_and_non_convex_surface.PNG\" alt=\"MSE Surface\" width=\"1200\"/>\n",
    "<br>\n",
    "<br>\n",
    "<img src=\"images/06_2_non_convex_surface.PNG\" alt=\"MSE Surface\" width=\"1200\"/>\n"
   ]
  },
  {
   "cell_type": "markdown",
   "metadata": {},
   "source": [
    "### 5. Beyond Simple Linear Regression models\n",
    "\n",
    "<img src=\"images/07_regression_education_seniority_eg_multiple.PNG\" alt=\"2 Independent Variables\" width=\"800\"/> <br>\n",
    "\n",
    "$$ \\Huge \\hat{y}_i = \\hat{\\beta}_0 + \\hat{\\beta}_1 x_{1i} + \\hat{\\beta}_2 x_{2i} $$\n",
    "\n",
    "\n",
    "<img src=\"images/08_regression_education_seniority_eg_polynomial.PNG\" alt=\"2 Independent Variables\" width=\"800\"/>\n",
    "\n",
    "\n",
    "$$ \\Huge \\hat{y}_i = \\hat{\\beta}_0 + \\hat{\\beta}_1 x_{1i} + \\hat{\\beta}_2 x_{2i} + \\hat{\\beta}_3 x_{1i}^2 + \\hat{\\beta}_4 x_{2i}^2 + \\hat{\\beta}_5 x_{1i}x_{2i} $$\n",
    "\n",
    "\n",
    "- Linear Regression\n",
    "- Polynomial Regression\n",
    "- Ridge Regression\n",
    "- Lasso Regression\n",
    "- Elastic Net Regression\n",
    "- Neural Network Regression\n",
    "- Decision Tree Regression\n",
    "- Random Forest Regression\n",
    "- Support Vector Regression\n",
    "- K-Nearest Neighbors Regression\n",
    "- Etc."
   ]
  }
 ],
 "metadata": {
  "language_info": {
   "name": "python"
  }
 },
 "nbformat": 4,
 "nbformat_minor": 2
}
